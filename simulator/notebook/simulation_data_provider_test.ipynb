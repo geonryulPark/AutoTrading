{
 "cells": [
  {
   "cell_type": "code",
   "execution_count": null,
   "id": "needed-liverpool",
   "metadata": {},
   "outputs": [],
   "source": [
    "import os\n",
    "os.chdir('../')"
   ]
  },
  {
   "cell_type": "markdown",
   "id": "existing-authorization",
   "metadata": {},
   "source": [
    "### 현재 디렉토리가 smtm 프로젝트 root로 설정되었는지 확인"
   ]
  },
  {
   "cell_type": "code",
   "execution_count": null,
   "id": "apart-eclipse",
   "metadata": {},
   "outputs": [],
   "source": [
    "print(\"현재 디렉토리 \" , os.getcwd())"
   ]
  },
  {
   "cell_type": "code",
   "execution_count": null,
   "id": "virgin-ballet",
   "metadata": {},
   "outputs": [],
   "source": [
    "from smtm import SimulationDataProvider\n",
    "dp = SimulationDataProvider()\n",
    "end_date = \"2020-04-30T07:30:00\"\n",
    "dp.initialize_from_server(end=end_date, count=50)"
   ]
  },
  {
   "cell_type": "markdown",
   "id": "placed-atlanta",
   "metadata": {},
   "source": [
    "### 첫번째 데이터\n",
    "```\n",
    "{'market': 'KRW-BTC',\n",
    " 'date_time': '2020-04-30T06:40:00',\n",
    " 'opening_price': 10589000.0,\n",
    " 'high_price': 10597000.0,\n",
    " 'low_price': 10586000.0,\n",
    " 'closing_price': 10586000.0,\n",
    " 'acc_price': 21749781.5467,\n",
    " 'acc_volume': 2.05403914}\n",
    "```"
   ]
  },
  {
   "cell_type": "code",
   "execution_count": null,
   "id": "historic-speaker",
   "metadata": {},
   "outputs": [],
   "source": [
    "dp.get_info()"
   ]
  },
  {
   "cell_type": "markdown",
   "id": "common-contemporary",
   "metadata": {},
   "source": [
    "### 두번째 데이터\n",
    "```\n",
    "{'market': 'KRW-BTC',\n",
    " 'date_time': '2020-04-30T06:41:00',\n",
    " 'opening_price': 10586000.0,\n",
    " 'high_price': 10598000.0,\n",
    " 'low_price': 10577000.0,\n",
    " 'closing_price': 10598000.0,\n",
    " 'acc_price': 35326230.30369,\n",
    " 'acc_volume': 3.33833509}\n",
    "```"
   ]
  },
  {
   "cell_type": "code",
   "execution_count": null,
   "id": "compact-pasta",
   "metadata": {},
   "outputs": [],
   "source": [
    "dp.get_info()"
   ]
  },
  {
   "cell_type": "code",
   "execution_count": null,
   "id": "given-notion",
   "metadata": {},
   "outputs": [],
   "source": []
  }
 ],
 "metadata": {
  "kernelspec": {
   "display_name": "Python 3",
   "language": "python",
   "name": "python3"
  },
  "language_info": {
   "codemirror_mode": {
    "name": "ipython",
    "version": 3
   },
   "file_extension": ".py",
   "mimetype": "text/x-python",
   "name": "python",
   "nbconvert_exporter": "python",
   "pygments_lexer": "ipython3",
   "version": "3.6.8"
  }
 },
 "nbformat": 4,
 "nbformat_minor": 5
}
