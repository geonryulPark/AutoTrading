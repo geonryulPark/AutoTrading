{
 "cells": [
  {
   "cell_type": "code",
   "execution_count": null,
   "id": "chronic-discovery",
   "metadata": {},
   "outputs": [],
   "source": [
    "import os\n",
    "os.chdir('../')"
   ]
  },
  {
   "cell_type": "markdown",
   "id": "dried-leeds",
   "metadata": {},
   "source": [
    "### 현재 디렉토리가 smtm 프로젝트 root로 설정되었는지 확인"
   ]
  },
  {
   "cell_type": "code",
   "execution_count": null,
   "id": "recent-testing",
   "metadata": {},
   "outputs": [],
   "source": [
    "print(\"현재 디렉토리 \" , os.getcwd())"
   ]
  },
  {
   "cell_type": "code",
   "execution_count": null,
   "id": "faced-prefix",
   "metadata": {},
   "outputs": [],
   "source": [
    "import os\n",
    "import time\n",
    "from datetime import datetime\n",
    "from smtm import UpbitTrader\n",
    "ISO_DATEFORMAT = \"%Y-%m-%dT%H:%M:%S\""
   ]
  },
  {
   "cell_type": "markdown",
   "id": "controlling-finance",
   "metadata": {},
   "source": [
    "### 시세 조회 테스트"
   ]
  },
  {
   "cell_type": "code",
   "execution_count": null,
   "id": "lonely-tolerance",
   "metadata": {},
   "outputs": [],
   "source": [
    "def query_trade_tick():\n",
    "    upbitTrader = UpbitTrader()\n",
    "    result = upbitTrader.get_trade_tick()\n",
    "    print(result)\n",
    "    print(f\"Price : {result[0]['trade_price']}\")\n",
    "    \n",
    "query_trade_tick()"
   ]
  },
  {
   "cell_type": "markdown",
   "id": "ruled-france",
   "metadata": {},
   "source": [
    "### 고정 가격 매수 주문\n",
    "시세보다 높은 가격으로 매수 주문 또는 시세보다 낮은 가격으로 매도 주문 할 경우 가격 최적화 되는지 확인"
   ]
  },
  {
   "cell_type": "code",
   "execution_count": null,
   "id": "superb-stroke",
   "metadata": {},
   "outputs": [],
   "source": [
    "def test_buy_btc_00001():\n",
    "    upbitTrader = UpbitTrader()\n",
    "    now = datetime.now().strftime(ISO_DATEFORMAT)\n",
    "    request = {\n",
    "        \"id\": \"test\" + str(round(time.time(), 3)),\n",
    "        \"type\": \"buy\",\n",
    "        \"price\": 81332000.0,\n",
    "        \"amount\": 0.0001,\n",
    "        \"date_time\": now,\n",
    "    }\n",
    "\n",
    "    is_waiting = True\n",
    "    start_time = time.time()\n",
    "    def callback(info):\n",
    "        print(f\"callback ## {info}\")\n",
    "        nonlocal is_waiting\n",
    "        is_waiting = False\n",
    "\n",
    "    upbitTrader.send_request(request, callback)\n",
    "\n",
    "    while is_waiting:\n",
    "        if time.time() - start_time > 10:\n",
    "            break\n",
    "        print(\"waiting...\")\n",
    "        time.sleep(1)\n",
    "\n",
    "test_buy_btc_00001()"
   ]
  },
  {
   "cell_type": "markdown",
   "id": "established-nicaragua",
   "metadata": {},
   "source": [
    "### 고정 가격 매도 주문\n",
    "시세보다 높은 가격으로 매수 주문 또는 시세보다 낮은 가격으로 매도 주문 할 경우 가격 최적화 되는지 확인"
   ]
  },
  {
   "cell_type": "code",
   "execution_count": null,
   "id": "political-distribution",
   "metadata": {},
   "outputs": [],
   "source": [
    "def test_sell_btc_00001():\n",
    "    upbitTrader = UpbitTrader()\n",
    "    now = datetime.now().strftime(ISO_DATEFORMAT)\n",
    "    request = {\n",
    "        \"id\": \"test\" + str(round(time.time(), 3)),\n",
    "        \"type\": \"sell\",\n",
    "        \"price\": 81535000.0,\n",
    "        \"amount\": 0.0001,\n",
    "        \"date_time\": now,\n",
    "    }\n",
    "\n",
    "    is_waiting = True\n",
    "    start_time = time.time()\n",
    "    def callback(info):\n",
    "        print(f\"callback ## {info}\")\n",
    "        nonlocal is_waiting\n",
    "        is_waiting = False\n",
    "\n",
    "    upbitTrader.send_request(request, callback)\n",
    "\n",
    "    while is_waiting:\n",
    "        if time.time() - start_time > 10:\n",
    "            break\n",
    "        print(\"waiting...\")\n",
    "        time.sleep(1)\n",
    "\n",
    "test_sell_btc_00001()"
   ]
  },
  {
   "cell_type": "markdown",
   "id": "humanitarian-provider",
   "metadata": {},
   "source": [
    "### 주문 취소\n",
    "매수 주문 후 시간 만료되면 주문 취소"
   ]
  },
  {
   "cell_type": "code",
   "execution_count": null,
   "id": "banner-match",
   "metadata": {},
   "outputs": [],
   "source": [
    "def cancel():\n",
    "    upbitTrader = UpbitTrader()\n",
    "    now = datetime.now().strftime(ISO_DATEFORMAT)\n",
    "    request = {\n",
    "        \"id\": \"test\" + str(round(time.time(), 3)),\n",
    "        \"type\": \"buy\",\n",
    "        \"price\": 80850000.0,\n",
    "        \"amount\": 0.0001,\n",
    "        \"date_time\": now,\n",
    "    }\n",
    "\n",
    "    is_waiting = True\n",
    "    start_time = time.time()\n",
    "    def callback(info):\n",
    "        print(f\"callback ## {info}\")\n",
    "        nonlocal is_waiting\n",
    "        is_waiting = False\n",
    "\n",
    "    upbitTrader.send_request(request, callback)\n",
    "\n",
    "    while is_waiting:\n",
    "        if time.time() - start_time > 10:\n",
    "            break\n",
    "        print(\"waiting...\")\n",
    "        time.sleep(1)\n",
    "\n",
    "    if is_waiting is True:\n",
    "        print(\"try to cancel!\")\n",
    "        upbitTrader.cancel_request(request[\"id\"])\n",
    "        print(f\"canceled order {request['id']}\")\n",
    "\n",
    "cancel()"
   ]
  },
  {
   "cell_type": "markdown",
   "id": "mounted-consent",
   "metadata": {},
   "source": [
    "### 현재 계좌 정보 조회"
   ]
  },
  {
   "cell_type": "code",
   "execution_count": null,
   "id": "premium-knight",
   "metadata": {},
   "outputs": [],
   "source": [
    "def query_account():\n",
    "    upbitTrader = UpbitTrader()\n",
    "    result = upbitTrader.get_account_info()\n",
    "    print(result)\n",
    "    print(f\"# balance {result['balance']}\")\n",
    "    print(f\"# asset {result['asset']}\")\n",
    "    print(f\"# quote {result['quote']}\")\n",
    "\n",
    "query_account()"
   ]
  },
  {
   "cell_type": "markdown",
   "id": "general-thread",
   "metadata": {},
   "source": [
    "### 시장가격으로 총액 10,000원 만큼 BTC를 매수"
   ]
  },
  {
   "cell_type": "code",
   "execution_count": null,
   "id": "adapted-wholesale",
   "metadata": {},
   "outputs": [],
   "source": [
    "def test_buy_btc_10000():\n",
    "    upbitTrader = UpbitTrader()\n",
    "    now = datetime.now().strftime(ISO_DATEFORMAT)\n",
    "    request = {\n",
    "        \"id\": \"test\" + str(round(time.time(), 3)),\n",
    "        \"type\": \"buy\",\n",
    "        \"price\": 10000,\n",
    "        \"amount\": None,\n",
    "        \"date_time\": now,\n",
    "    }\n",
    "\n",
    "    is_waiting = True\n",
    "    start_time = time.time()\n",
    "    def callback(info):\n",
    "        print(f\"callback ## {info}\")\n",
    "        nonlocal is_waiting\n",
    "        is_waiting = False\n",
    "\n",
    "    upbitTrader.send_request(request, callback)\n",
    "\n",
    "    while is_waiting:\n",
    "        if time.time() - start_time > 10:\n",
    "            break\n",
    "        print(\"waiting...\")\n",
    "        time.sleep(3)\n",
    "\n",
    "test_buy_btc_10000()"
   ]
  },
  {
   "cell_type": "markdown",
   "id": "rural-evolution",
   "metadata": {},
   "source": [
    "### 시장가격으로 0.00014864 만큼 BTC를 매도"
   ]
  },
  {
   "cell_type": "code",
   "execution_count": null,
   "id": "tight-status",
   "metadata": {},
   "outputs": [],
   "source": [
    "def sell_btc_00014864():\n",
    "    upbitTrader = UpbitTrader()\n",
    "    now = datetime.now().strftime(ISO_DATEFORMAT)\n",
    "    request = {\n",
    "        \"id\": \"test\" + str(round(time.time(), 3)),\n",
    "        \"type\": \"sell\",\n",
    "        \"price\": None,\n",
    "        \"amount\": 0.00014864,\n",
    "        \"date_time\": now,\n",
    "    }\n",
    "\n",
    "    is_waiting = True\n",
    "    start_time = time.time()\n",
    "    def callback(info):\n",
    "        print(f\"callback ## {info}\")\n",
    "        nonlocal is_waiting\n",
    "        is_waiting = False\n",
    "\n",
    "    upbitTrader.send_request(request, callback)\n",
    "\n",
    "    while is_waiting:\n",
    "        if time.time() - start_time > 10:\n",
    "            break\n",
    "        print(\"waiting...\")\n",
    "        time.sleep(3)\n",
    "\n",
    "sell_btc_00014864()"
   ]
  },
  {
   "cell_type": "markdown",
   "id": "junior-strain",
   "metadata": {},
   "source": [
    "### 주문 목록 조회"
   ]
  },
  {
   "cell_type": "code",
   "execution_count": null,
   "id": "successful-belle",
   "metadata": {},
   "outputs": [],
   "source": [
    "def query_done_state_orders():\n",
    "    upbitTrader = UpbitTrader()\n",
    "    result = upbitTrader._query_order_list([\n",
    "        '16c1e6ec-4671-407d-be21-c3bd3dd1f672',\n",
    "#         'be73e636-4712-46a7-83c5-3f20bc18d3d6'\n",
    "    ], True)\n",
    "    print(result)\n",
    "\n",
    "query_done_state_orders()"
   ]
  },
  {
   "cell_type": "markdown",
   "id": "previous-acrylic",
   "metadata": {},
   "source": [
    "### 대기 주문 목록 조회"
   ]
  },
  {
   "cell_type": "code",
   "execution_count": null,
   "id": "seasonal-footage",
   "metadata": {},
   "outputs": [],
   "source": [
    "def query_wait_state_orders():\n",
    "    upbitTrader = UpbitTrader()\n",
    "    result = upbitTrader._query_order_list([\n",
    "        '70e28d54-73b5-49f8-a8f3-c46a628c8bfe',\n",
    "         'be73e636-4712-46a7-83c5-3f20bc18d3d6'\n",
    "    ], False)\n",
    "    print(result)\n",
    "\n",
    "query_wait_state_orders()"
   ]
  },
  {
   "cell_type": "code",
   "execution_count": null,
   "id": "retained-northern",
   "metadata": {},
   "outputs": [],
   "source": []
  }
 ],
 "metadata": {
  "kernelspec": {
   "display_name": "Python 3",
   "language": "python",
   "name": "python3"
  },
  "language_info": {
   "codemirror_mode": {
    "name": "ipython",
    "version": 3
   },
   "file_extension": ".py",
   "mimetype": "text/x-python",
   "name": "python",
   "nbconvert_exporter": "python",
   "pygments_lexer": "ipython3",
   "version": "3.6.8"
  }
 },
 "nbformat": 4,
 "nbformat_minor": 5
}
